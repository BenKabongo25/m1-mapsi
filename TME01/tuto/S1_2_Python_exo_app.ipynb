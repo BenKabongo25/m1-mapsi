{
 "cells": [
  {
   "cell_type": "markdown",
   "metadata": {},
   "source": [
    "# Exercices d'applications\n",
    "\n",
    "Afin de vérifier que vous maitrisez les bases de python et avant de passer à numpy, nous allons vous demander de faire quelques petits exercices de validation.\n",
    "\n"
   ]
  },
  {
   "cell_type": "markdown",
   "metadata": {},
   "source": [
    "## Créer et afficher une liste contenant les entiers de 1 à 20"
   ]
  },
  {
   "cell_type": "code",
   "execution_count": 2,
   "metadata": {},
   "outputs": [
    {
     "name": "stdout",
     "output_type": "stream",
     "text": [
      "[1, 2, 3, 4, 5, 6, 7, 8, 9, 10, 11, 12, 13, 14, 15, 16, 17, 18, 19, 20]\n"
     ]
    }
   ],
   "source": [
    "# 1. construction de la liste python\n",
    "l = list(range(1,21))\n",
    "\n",
    "# 2. affichage\n",
    "print(l)"
   ]
  },
  {
   "cell_type": "markdown",
   "metadata": {},
   "source": [
    "## Créer et afficher les 10 premiers termes de la série de Fibonacci\n",
    "    * Conditions initiles : u[0] = 1, u[1] = 1\n",
    "    *  u[n] = u[n-2] + u[n-1]\n",
    "Test sur l'usage de la boucle ```for``` et la réutilisation des variables\n",
    "\n",
    "Initialiser $u_t$ et $u_{t+1}$, faire les premiers affichages, rentrer dans la boucle et itérer le processus."
   ]
  },
  {
   "cell_type": "code",
   "execution_count": 4,
   "metadata": {},
   "outputs": [
    {
     "name": "stdout",
     "output_type": "stream",
     "text": [
      "1 2 3 5 8 13 21 34 55 89 144 "
     ]
    }
   ],
   "source": [
    "# 1. Initialisation\n",
    "u_n1 = 1\n",
    "u_n2 = 1\n",
    "print(u_n2, end=\" \")\n",
    "\n",
    "# 2. Itération du processus\n",
    "for _ in range(10):\n",
    "    u_n = u_n1 + u_n2\n",
    "    print(u_n, end=\" \")\n",
    "    u_n1 = u_n2\n",
    "    u_n2 = u_n"
   ]
  },
  {
   "cell_type": "markdown",
   "metadata": {},
   "source": [
    "## Créer une fonction stochastique\n",
    "\n",
    "Vous devez créer une fonction (avec le mot-clé ```def```) qui ne prend pas d'argument.\n",
    "Cette fonction utilisera ```random``` pour afficher:\n",
    "    * \"Boujour\" une fois sur 3 \n",
    "    * \"Au revoir\" deux fois sur 3\n",
    "\n",
    "Tester 10 fois cette fonction\n"
   ]
  },
  {
   "cell_type": "code",
   "execution_count": 5,
   "metadata": {},
   "outputs": [
    {
     "name": "stdout",
     "output_type": "stream",
     "text": [
      "Au revoir\n",
      "Bonjour\n",
      "Au revoir\n",
      "Au revoir\n",
      "Au revoir\n",
      "Au revoir\n",
      "Bonjour\n",
      "Au revoir\n",
      "Au revoir\n",
      "Au revoir\n"
     ]
    }
   ],
   "source": [
    "# 0. import de la bibliothèque\n",
    "import random\n",
    "\n",
    "# 1. Définition de la fonction\n",
    "def hellobye():\n",
    "    if random.random() <= 1/3: print(\"Bonjour\")\n",
    "    else: print(\"Au revoir\")\n",
    "\n",
    "# 2. Appel à la fonction 10 fois dans une boucle\n",
    "for _ in range(10):\n",
    "    hellobye()"
   ]
  },
  {
   "cell_type": "markdown",
   "metadata": {},
   "source": [
    "## Créer une fonction avec des arguments par défaut\n",
    "\n",
    "C'est pratique d'avoir une fonction (avec le mot-clé ```def```) qui possède des arguments par défaut: si on ne les mentionne pas, ils prennent une valeur pré-définie.\n",
    "\n",
    "Définir la fonction ```affichage``` qui prend en argument ```nIter=10``` (argument ```nIter``` avec la valeur par défaut ```10```). Cette fonction affichera tous les entiers de $0$ à ```nIter```.\n"
   ]
  },
  {
   "cell_type": "code",
   "execution_count": 12,
   "metadata": {},
   "outputs": [
    {
     "name": "stdout",
     "output_type": "stream",
     "text": [
      "0 1 2 3 4 5\n",
      "0 1 2 3 4 5 6 7 8 9 10\n"
     ]
    }
   ],
   "source": [
    "# 1. Définition de la fonction \n",
    "def affichage(niter=10):\n",
    "    print(\" \".join(list(map(lambda i: str(i), range(niter+1)))))\n",
    "\n",
    "# 2. Invocations\n",
    "affichage(5) # résultat attendu: 0 1 2 3 4 5 \n",
    "affichage()  # résultat attendu: 0 1 2 3 4 5 6 7 8 9 10"
   ]
  },
  {
   "cell_type": "markdown",
   "metadata": {},
   "source": [
    "## Créer une fonction qui estime la valeur de la racine carrée de x en utilisant la suite de Newton:\n",
    "\n",
    "L'algorithme, assez proche de la suite de fibonacci, est défini comme suit:\n",
    "\n",
    "1. u_0 = x/2, u_t = (u_t−1 + x / u_t−1)/2\n",
    "1. cette fonction prendra en argument le nombre d'itérations à effectuer\n",
    "1. tester cette fonction sur plusieurs valeurs et vérifier vos résultats avec math.sqrt(x)\n"
   ]
  },
  {
   "cell_type": "code",
   "execution_count": 18,
   "metadata": {},
   "outputs": [
    {
     "name": "stdout",
     "output_type": "stream",
     "text": [
      "2.23606797749979 2.23606797749979\n",
      "10.0 10.0\n"
     ]
    }
   ],
   "source": [
    "# 0. import de la bibliothèque nécessaire (une fois est suffisante pour tout le notebook)\n",
    "import math\n",
    "\n",
    "# 1. Définition de la fonction qui prend en argument le nombre d'itération à effectuer + implémentation de l'algorithme\n",
    "def mysqrt(x, niter=10):\n",
    "    u_t1 = x/2\n",
    "    for _ in range(niter):\n",
    "        u_t = (u_t1 + x/u_t1)/2\n",
    "        u_t1 = u_t\n",
    "    return u_t1\n",
    "\n",
    "# 2. Appel à la fonction + comparaison avec la valeur calculée par la méthode python\n",
    "print(mysqrt(5), math.sqrt(5))\n",
    "print(mysqrt(100, 8), math.sqrt(100))"
   ]
  },
  {
   "cell_type": "markdown",
   "metadata": {},
   "source": [
    "## Construction d'une liste de notes d'étudiants (50 notes entre 0 et 20):\n",
    "\n",
    "* Génération à l'aide de la fonction: ```random.randint(min, max)``` \n",
    "* Création d'une nouvelle liste comptant combien de note de chaque niveau apparaissent dans la liste (table de contingence)\n",
    "* Création d'une troisième liste contenant toutes les notes supérieures à 10\n",
    "    \n",
    "Affichage des deux listes et vérification\n",
    "\n",
    "Exercice sur la gestion des listes et des boucles."
   ]
  },
  {
   "cell_type": "code",
   "execution_count": 21,
   "metadata": {},
   "outputs": [
    {
     "name": "stdout",
     "output_type": "stream",
     "text": [
      "[17, 5, 10, 15, 20, 19, 15, 7, 12, 9, 20, 12, 7, 17, 6, 6, 2, 13, 7, 6, 11, 10, 17, 17, 18, 10, 2, 16, 12, 14, 13, 20, 1, 15, 11, 0, 16, 5, 7, 7, 2, 9, 8, 9, 20, 4, 18, 7, 18, 15]\n",
      "[1, 1, 3, 0, 1, 2, 3, 6, 1, 3, 3, 2, 3, 2, 1, 4, 2, 4, 3, 1, 4]\n",
      "[17, 15, 20, 19, 15, 12, 20, 12, 17, 13, 11, 17, 17, 18, 16, 12, 14, 13, 20, 15, 11, 16, 20, 18, 18, 15]\n"
     ]
    }
   ],
   "source": [
    "notes = [random.randint(0, 20) for _ in range(50)]\n",
    "counts = [notes.count(i) for i in range(0,21)]\n",
    "filters = list(filter(lambda i: i > 10, notes))\n",
    "print(notes)\n",
    "print(counts)\n",
    "print(filters)"
   ]
  }
 ],
 "metadata": {
  "interpreter": {
   "hash": "31f2aee4e71d21fbe5cf8b01ff0e069b9275f58929596ceb00d14d90e3e16cd6"
  },
  "kernelspec": {
   "display_name": "Python 3 (ipykernel)",
   "language": "python",
   "name": "python3"
  },
  "language_info": {
   "codemirror_mode": {
    "name": "ipython",
    "version": 3
   },
   "file_extension": ".py",
   "mimetype": "text/x-python",
   "name": "python",
   "nbconvert_exporter": "python",
   "pygments_lexer": "ipython3",
   "version": "3.9.7"
  }
 },
 "nbformat": 4,
 "nbformat_minor": 2
}
