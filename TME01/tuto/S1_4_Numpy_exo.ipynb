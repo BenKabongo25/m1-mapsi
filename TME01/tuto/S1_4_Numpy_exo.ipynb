{
 "cells": [
  {
   "cell_type": "markdown",
   "metadata": {},
   "source": [
    "# Exercices de synthèse\n",
    "## Génération de données et agrégation de matrices\n",
    "\n",
    "Nous souhaitons créer une matrice 10x3 dont la première colonne contient les indices 1 à 10 dans l'ordre. La seconde colonne contiendra des nombres aléatoires entre 0 et 1. La troisième colonne ne contiendra que des 0.\n",
    "Vous ajouterez ensuite une ligne en haut de la matrice contenant les indices de colonne 1 à 3.\n",
    "\n",
    "**NB:** vous pouvez créer des matrices dans des matrices, c'est-à-dire faire appel à des fonctions dans les []. \n",
    "\n",
    "**NB2:** à la fin du processus, on veut un ```np.array```, il faut soit travailler en numpy tout le temps, soit penser à convertir les listes python.\n",
    "\n",
    "Exemple de résultat possible:\n",
    "\n",
    "    1.00000    2.00000    3.00000\n",
    "    1.00000    0.03479    0.00000\n",
    "    2.00000    0.66074    0.00000\n",
    "    3.00000    0.15187    0.00000\n",
    "    4.00000    0.03640    0.00000\n",
    "    5.00000    0.62497    0.00000\n",
    "    6.00000    0.54774    0.00000\n",
    "    7.00000    0.68919    0.00000\n",
    "    8.00000    0.86146    0.00000\n",
    "    9.00000    0.72030    0.00000\n",
    "    10.0000    0.84590    0.00000\n"
   ]
  },
  {
   "cell_type": "code",
   "execution_count": 11,
   "metadata": {},
   "outputs": [
    {
     "data": {
      "text/plain": [
       "array([[ 1.        ,  2.        ,  3.        ],\n",
       "       [ 1.        ,  0.74977732,  0.        ],\n",
       "       [ 2.        ,  0.62279464,  0.        ],\n",
       "       [ 3.        ,  0.59761689,  0.        ],\n",
       "       [ 4.        ,  0.51224065,  0.        ],\n",
       "       [ 5.        ,  0.09503464,  0.        ],\n",
       "       [ 6.        ,  0.74186244,  0.        ],\n",
       "       [ 7.        ,  0.05818061,  0.        ],\n",
       "       [ 8.        ,  0.50437102,  0.        ],\n",
       "       [ 9.        ,  0.13799422,  0.        ],\n",
       "       [10.        ,  0.39917502,  0.        ]])"
      ]
     },
     "execution_count": 11,
     "metadata": {},
     "output_type": "execute_result"
    }
   ],
   "source": [
    "import numpy as np\n",
    "\n",
    "a = np.zeros((11, 3))\n",
    "a[0] = range(1, 4)\n",
    "a[1:, 0] = range(1, 11)\n",
    "a[1:, 1] = np.random.random((10,))\n",
    "a"
   ]
  },
  {
   "cell_type": "markdown",
   "metadata": {},
   "source": [
    "## Calcul de moyennes, écarts-types (à la main *vs* fonction numpy)\n",
    "\n",
    "Soit la matrice de donnée suivante:\n",
    "```\n",
    "M = np.array([[8, 3, 7, 3, 2, 7, 9, 1, 2, 9],\n",
    "              [2, 1, 3, 7, 4, 2, 5, 4, 6, 0],\n",
    "              [5, 1, 4, 1, 1, 1, 0, 6, 5, 0]])\n",
    "```\n",
    "\n",
    "Construire la fonction ```stats``` qui prend en argument une matrice et retourne le vecteur contenant les moyennes des colonnes et un second vecteur contenant les écarts-types des colonnes.\n",
    "\n",
    "**Note:** vous ferez les calculs à la main, avec des boucles et vous comparerez les résultats avec les fonctions ```np.mean``` et ```np.std```.\n",
    "\n",
    "**Note 2:** une fonction définie par ```def mafonction(arg):``` peut retourner un tuple, c'est à dire plusieurs résultats agrégés dans une structure simple ```return vec1, vec2```. L'appel (le plus simple) à ma fonction sera de la forme: ```res1, res2 = mafonction(arg)```"
   ]
  },
  {
   "cell_type": "code",
   "execution_count": 14,
   "metadata": {},
   "outputs": [
    {
     "name": "stdout",
     "output_type": "stream",
     "text": [
      "([5.0, 1.6666666666666667, 4.666666666666667, 3.6666666666666665, 2.3333333333333335, 3.3333333333333335, 4.666666666666667, 3.6666666666666665, 4.333333333333333, 3.0], [2.449489742783178, 0.9428090415820631, 1.699673171197594, 2.494438257849295, 1.2472191289246466, 2.6246692913372702, 3.6817870057290865, 2.054804667656326, 1.699673171197596, 4.242640687119285])\n",
      "[5.         1.66666667 4.66666667 3.66666667 2.33333333 3.33333333\n",
      " 4.66666667 3.66666667 4.33333333 3.        ] [2.44948974 0.94280904 1.69967317 2.49443826 1.24721913 2.62466929\n",
      " 3.68178701 2.05480467 1.69967317 4.24264069]\n"
     ]
    }
   ],
   "source": [
    "M = np.array([[8, 3, 7, 3, 2, 7, 9, 1, 2, 9],\n",
    "              [2, 1, 3, 7, 4, 2, 5, 4, 6, 0],\n",
    "              [5, 1, 4, 1, 1, 1, 0, 6, 5, 0]])\n",
    "\n",
    "def stats(M):\n",
    "    l, c = M.shape\n",
    "    means = []\n",
    "    stds = []\n",
    "    for j in range(c):\n",
    "        mean = sum(M[:, j])/l\n",
    "        std = ((sum(list(map(lambda x: x**2, M[:, j])))/l) - mean**2) ** .5\n",
    "        means.append(mean)\n",
    "        stds.append(std)\n",
    "    return means, stds\n",
    "\n",
    "print(stats(M))  \n",
    "print(np.mean(M, axis=0), np.std(M, axis=0))\n"
   ]
  },
  {
   "cell_type": "markdown",
   "metadata": {},
   "source": [
    "## Table de contingence en numpy\n",
    "\n",
    "Construction d'une liste de notes d'étudiants (50 notes entre 0 et 20): l'exercice est le même que celui proposé dans la partie python, mais **à réaliser entièrement dans l'environnement numpy**.\n",
    "\n",
    "* Génération d'un vecteur de notes tirées aléatoirement à l'aide de la fonction: ```np.random.randint``` \n",
    "* Création d'une nouvelle liste comptant combien de note de chaque niveau apparaissent dans la liste (table de contingence)\n",
    "* Création d'une troisième liste contenant toutes les notes supérieures à 10\n",
    "    \n",
    "Affichage des deux listes et vérification\n",
    "\n",
    "Exercice sur la gestion des listes et des boucles."
   ]
  },
  {
   "cell_type": "code",
   "execution_count": 17,
   "metadata": {},
   "outputs": [
    {
     "name": "stdout",
     "output_type": "stream",
     "text": [
      "[ 6 18 17 20  8 15  7 10  7  2 15 13  3  7  9 12 16  1 11 15 14  8  1  9\n",
      " 11 20 11 14  0 10 20 17  7 20  9 20 17  4 17  4  0  7  6  8 17 17  1  5\n",
      "  3 12]\n",
      "[2 3 1 2 2 1 2 5 3 3 2 3 2 1 2 3 1 6 1 5]\n",
      "[18 17 20 15 15 13 12 16 11 15 14 11 20 11 14 20 17 20 20 17 17 17 17 12]\n"
     ]
    }
   ],
   "source": [
    "notes = np.random.randint(0, 21, 50)\n",
    "uniques, counts = np.unique(notes, return_counts=True)\n",
    "filters = notes[notes > 10]\n",
    "print(notes)\n",
    "print(counts)\n",
    "print(filters)"
   ]
  },
  {
   "cell_type": "markdown",
   "metadata": {},
   "source": [
    "## Premier contact avec la documentation\n",
    "\n",
    "Vous allez générer la matrice suivante:\n",
    "```\n",
    "[[0 1 2 0 1 2]\n",
    " [0 1 2 0 1 2]\n",
    " [0 1 2 0 1 2]\n",
    " [0 1 2 0 1 2]\n",
    " [0 1 2 0 1 2]\n",
    " [0 1 2 0 1 2]\n",
    " [0 1 2 0 1 2]\n",
    " [0 1 2 0 1 2]\n",
    " [0 1 2 0 1 2]\n",
    " [0 1 2 0 1 2]]\n",
    "```\n",
    "Cette génération peut se faire en une ligne à condition d'utiliser la fonction ```np.tile``` dont la documentation se trouve : \n",
    "https://numpy.org/doc/stable/reference/generated/numpy.tile.html\n",
    "\n",
    "Au-delà de la question formelle, l'enjeu est d'apprendre à se servir de la documentation de numpy."
   ]
  },
  {
   "cell_type": "code",
   "execution_count": 18,
   "metadata": {},
   "outputs": [
    {
     "data": {
      "text/plain": [
       "array([[0, 1, 2, 0, 1, 2],\n",
       "       [0, 1, 2, 0, 1, 2],\n",
       "       [0, 1, 2, 0, 1, 2],\n",
       "       [0, 1, 2, 0, 1, 2],\n",
       "       [0, 1, 2, 0, 1, 2],\n",
       "       [0, 1, 2, 0, 1, 2],\n",
       "       [0, 1, 2, 0, 1, 2],\n",
       "       [0, 1, 2, 0, 1, 2],\n",
       "       [0, 1, 2, 0, 1, 2],\n",
       "       [0, 1, 2, 0, 1, 2]])"
      ]
     },
     "execution_count": 18,
     "metadata": {},
     "output_type": "execute_result"
    }
   ],
   "source": [
    "np.tile([0, 1, 2], [10, 2])"
   ]
  },
  {
   "cell_type": "markdown",
   "metadata": {},
   "source": [
    "# Manipulation standard de matrices\n",
    "\n",
    "1. Générer une matrice ```10x3``` de valeurs distribuées selon une loi normale centrée réduite (```np.random.randn```)\n",
    "1. Faites en sorte que l'écart-type des données passe à 4 et vérifier que c'est le approximativement cas avec la fonction ```np.std```\n",
    "1. Centrer la première colonne sur 10, la seconde sur 12 et la troisième sur 14. Vérifier que les moyennes sont bonnes avec ```np.mean(axis=0)``` <BR> **NB:** il est impératif de travailler sur la dispersion avant le centrage (vérifiez cette affirmation en inversant les deux réponses si vous avez un doute)\n",
    "1. Seuiller toutes les valeurs inférieures à 5 avec ```np.maximum```\n",
    "1. Seuiller toutes les valeurs supérieures à 18\n",
    "1. Compter combien de valeurs se situent entre 8 et 12 (exclus)"
   ]
  },
  {
   "cell_type": "markdown",
   "metadata": {},
   "source": []
  },
  {
   "cell_type": "code",
   "execution_count": 23,
   "metadata": {},
   "outputs": [
    {
     "name": "stdout",
     "output_type": "stream",
     "text": [
      "[[ -4.01627437   3.99053265   7.33501463]\n",
      " [  3.94774175   0.54022013   2.01883551]\n",
      " [  0.74518981   4.14333304  -2.26545277]\n",
      " [  6.22441778   2.62109218   5.89799736]\n",
      " [ -2.41355898 -12.29559385   1.67973433]\n",
      " [ -2.83521386  -1.25333553  -4.31123388]\n",
      " [  8.15322638  -0.57466701  -7.12112604]\n",
      " [ -2.2928109   -0.83155598  -1.78441833]\n",
      " [ -5.92360474   4.43462511   7.69831315]\n",
      " [  0.92533565  -3.66955169  -2.54576092]]\n",
      "4.6806997213345145\n"
     ]
    }
   ],
   "source": [
    "a = 4 * np.random.randn(10, 3)\n",
    "print(a)\n",
    "print(np.std(a))"
   ]
  },
  {
   "cell_type": "markdown",
   "metadata": {},
   "source": [
    "# Travail en plus grande dimension\n",
    "\n",
    "numpy ne vous limite pas à 2 dimensions...\n",
    "1. Créer un cube ```C``` de dimension ```4x3x2``` (avec la fonction ```np.zeros``` par exemple). Dans la suite on choisira de voire cette structure de données comme 4 matrices ```3x2```. Vérifier que vous pouvez acceder à la matrice ```i``` par la commande ```C[i]```.\n",
    "1. Remplir ce cube avec 15 valeurs aléatoires tirées entre 0 et 10 et positionnées dans des cases aléatoires\n",
    "1. Diviser le cube par des facteurs de normalisation de sorte à ce que chaque matrice ```3x2``` ait une somme de ```1```. Afficher les matrices pour vérifier *à l'oeil* que les sommes sont bonnes.\n",
    "1. Remplacer la sous-matrice ```2``` par une matrice remplie de 1.\n",
    "\n"
   ]
  },
  {
   "cell_type": "code",
   "execution_count": 26,
   "metadata": {},
   "outputs": [
    {
     "ename": "IndexError",
     "evalue": "arrays used as indices must be of integer (or boolean) type",
     "output_type": "error",
     "traceback": [
      "\u001b[1;31m---------------------------------------------------------------------------\u001b[0m",
      "\u001b[1;31mIndexError\u001b[0m                                Traceback (most recent call last)",
      "\u001b[1;32mC:\\Users\\BENKAB~1\\AppData\\Local\\Temp/ipykernel_3864/3488476805.py\u001b[0m in \u001b[0;36m<module>\u001b[1;34m\u001b[0m\n\u001b[0;32m      5\u001b[0m \u001b[0mindex\u001b[0m\u001b[1;33m[\u001b[0m\u001b[1;33m:\u001b[0m\u001b[1;33m,\u001b[0m \u001b[1;36m1\u001b[0m\u001b[1;33m]\u001b[0m \u001b[1;33m=\u001b[0m \u001b[0mnp\u001b[0m\u001b[1;33m.\u001b[0m\u001b[0mrandom\u001b[0m\u001b[1;33m.\u001b[0m\u001b[0mrandint\u001b[0m\u001b[1;33m(\u001b[0m\u001b[1;36m0\u001b[0m\u001b[1;33m,\u001b[0m \u001b[1;36m3\u001b[0m\u001b[1;33m,\u001b[0m \u001b[0mn\u001b[0m\u001b[1;33m)\u001b[0m\u001b[1;33m\u001b[0m\u001b[1;33m\u001b[0m\u001b[0m\n\u001b[0;32m      6\u001b[0m \u001b[0mindex\u001b[0m\u001b[1;33m[\u001b[0m\u001b[1;33m:\u001b[0m\u001b[1;33m,\u001b[0m \u001b[1;36m2\u001b[0m\u001b[1;33m]\u001b[0m \u001b[1;33m=\u001b[0m \u001b[0mnp\u001b[0m\u001b[1;33m.\u001b[0m\u001b[0mrandom\u001b[0m\u001b[1;33m.\u001b[0m\u001b[0mrandint\u001b[0m\u001b[1;33m(\u001b[0m\u001b[1;36m0\u001b[0m\u001b[1;33m,\u001b[0m \u001b[1;36m2\u001b[0m\u001b[1;33m,\u001b[0m \u001b[0mn\u001b[0m\u001b[1;33m)\u001b[0m\u001b[1;33m\u001b[0m\u001b[1;33m\u001b[0m\u001b[0m\n\u001b[1;32m----> 7\u001b[1;33m \u001b[0mC\u001b[0m\u001b[1;33m[\u001b[0m\u001b[0mindex\u001b[0m\u001b[1;33m]\u001b[0m\u001b[1;33m\u001b[0m\u001b[1;33m\u001b[0m\u001b[0m\n\u001b[0m",
      "\u001b[1;31mIndexError\u001b[0m: arrays used as indices must be of integer (or boolean) type"
     ]
    }
   ],
   "source": [
    "C = np.zeros((4,3,2))\n",
    "n = 15\n",
    "index = np.zeros((n, 3))\n",
    "index[:, 0] = np.random.randint(0, 4, n)\n",
    "index[:, 1] = np.random.randint(0, 3, n)\n",
    "index[:, 2] = np.random.randint(0, 2, n)\n",
    "C[index]"
   ]
  },
  {
   "cell_type": "markdown",
   "metadata": {},
   "source": [
    "### Traduction de matrice\n",
    "* Générer une matrice aléatoire `m` de taille (15,2) contenant des indices aléatoires entre 0 et 3.\n",
    "* Construire le dictionnaire `dico` {1:'titi', 2:'toto', ...}\n",
    "* La méthode `get` du dictionnaire permet de traduire une valeur de `m`\n",
    "* Utiliser la commande `np.vectorize` pour traduire en une ligne et sans boucle toute la matrice `m` en une matrice `mtxt`"
   ]
  },
  {
   "cell_type": "code",
   "execution_count": null,
   "metadata": {
    "collapsed": true
   },
   "outputs": [],
   "source": []
  }
 ],
 "metadata": {
  "kernelspec": {
   "display_name": "Python 3 (ipykernel)",
   "language": "python",
   "name": "python3"
  },
  "language_info": {
   "codemirror_mode": {
    "name": "ipython",
    "version": 3
   },
   "file_extension": ".py",
   "mimetype": "text/x-python",
   "name": "python",
   "nbconvert_exporter": "python",
   "pygments_lexer": "ipython3",
   "version": "3.9.7"
  }
 },
 "nbformat": 4,
 "nbformat_minor": 2
}
