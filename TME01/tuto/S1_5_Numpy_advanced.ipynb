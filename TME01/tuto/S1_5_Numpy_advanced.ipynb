{
 "cells": [
  {
   "cell_type": "markdown",
   "metadata": {},
   "source": [
    "# Trucs et astuces plus avancés en numpy\n",
    "\n",
    "## Fonction de recherche `np.where`\n"
   ]
  },
  {
   "cell_type": "code",
   "execution_count": 1,
   "metadata": {},
   "outputs": [],
   "source": [
    "import numpy as np"
   ]
  },
  {
   "cell_type": "code",
   "execution_count": 3,
   "metadata": {},
   "outputs": [
    {
     "data": {
      "text/plain": [
       "(array([ 0,  1,  1,  2,  2,  3,  4,  5,  5,  6,  6,  7,  8,  8,  9, 11, 11,\n",
       "        12, 12, 13, 14, 14, 16, 16, 17, 17, 19, 19, 20, 20, 21, 21, 22, 22,\n",
       "        23, 23, 24, 25, 26, 27, 27, 28, 28, 29, 30, 30, 31, 33, 34, 35, 36,\n",
       "        37, 37, 38, 38, 39, 40, 40, 41, 41, 42, 42, 43, 44, 45, 46, 46, 47,\n",
       "        47, 48, 48, 49, 50, 51, 52, 52, 53, 54, 55, 56, 56, 57, 58, 58, 59,\n",
       "        59, 60, 61, 62, 62, 64, 65, 66, 66, 67, 68, 68, 69, 70, 71, 72, 72,\n",
       "        73, 73, 74, 74, 75, 75, 76, 77, 77, 78, 78, 79, 79, 80, 80, 81, 82,\n",
       "        83, 83, 84, 85, 85, 86, 87, 88, 88, 89, 90, 91, 91, 92, 93, 94, 95,\n",
       "        96, 96, 97, 98, 99, 99], dtype=int64),\n",
       " array([0, 0, 1, 0, 1, 1, 0, 0, 1, 0, 1, 1, 0, 1, 1, 0, 1, 0, 1, 0, 0, 1,\n",
       "        0, 1, 0, 1, 0, 1, 0, 1, 0, 1, 0, 1, 0, 1, 1, 0, 0, 0, 1, 0, 1, 1,\n",
       "        0, 1, 1, 0, 1, 1, 1, 0, 1, 0, 1, 0, 0, 1, 0, 1, 0, 1, 0, 1, 1, 0,\n",
       "        1, 0, 1, 0, 1, 0, 0, 1, 0, 1, 0, 0, 1, 0, 1, 0, 0, 1, 0, 1, 0, 0,\n",
       "        0, 1, 0, 1, 0, 1, 1, 0, 1, 0, 0, 1, 0, 1, 0, 1, 0, 1, 0, 1, 1, 0,\n",
       "        1, 0, 1, 0, 1, 0, 1, 1, 1, 0, 1, 0, 0, 1, 0, 0, 0, 1, 1, 0, 0, 1,\n",
       "        1, 1, 1, 1, 0, 1, 1, 1, 0, 1], dtype=int64))"
      ]
     },
     "execution_count": 3,
     "metadata": {},
     "output_type": "execute_result"
    }
   ],
   "source": [
    "a = np.random.randn(100,2)\n",
    "\n",
    "# element de la premiere colonne < 0.5\n",
    "index = np.where(a<0.5) # retourne les indices dans (I,J)\n",
    "                        # I: indice des lignes\n",
    "                        # J: indice des colonnes\n",
    "\n",
    "# recherche dans une colonne\n",
    "index2 = np.where(a[:,0]<0.5)\n",
    "index"
   ]
  },
  {
   "cell_type": "markdown",
   "metadata": {},
   "source": [
    "**Attention au type de retour**\n",
    "\n",
    "Le type de `index` est sans surprise... Mais celui de `index2` est plus déroutant: il s'agit d'un tuple mais avec un seul champ rempli...\n",
    "Pour utiliser les indices extraits facilement, il faut donc faire:"
   ]
  },
  {
   "cell_type": "code",
   "execution_count": 5,
   "metadata": {},
   "outputs": [
    {
     "data": {
      "text/plain": [
       "array([ 0,  1,  2,  4,  5,  6,  8, 11, 12, 13, 14, 16, 17, 19, 20, 21, 22,\n",
       "       23, 25, 26, 27, 28, 30, 33, 37, 38, 39, 40, 41, 42, 43, 46, 47, 48,\n",
       "       49, 50, 52, 53, 54, 56, 57, 58, 59, 60, 61, 62, 64, 66, 68, 69, 70,\n",
       "       72, 73, 74, 75, 77, 78, 79, 80, 83, 84, 85, 86, 87, 88, 90, 91, 96,\n",
       "       99], dtype=int64)"
      ]
     },
     "execution_count": 5,
     "metadata": {},
     "output_type": "execute_result"
    }
   ],
   "source": [
    "index2, = np.where(a[:,0]<0.5) # on ne s'intéresse qu'au premier membre!\n",
    "# a[index2,:] = ...\n",
    "index2"
   ]
  },
  {
   "cell_type": "markdown",
   "metadata": {},
   "source": [
    "## Fonction de recherche en syntaxe légère\n"
   ]
  },
  {
   "cell_type": "code",
   "execution_count": null,
   "metadata": {},
   "outputs": [],
   "source": [
    "y = np.array([-1, -1, -1, 1, 1, 1])\n",
    "x = np.random.rand(6,2)\n",
    "\n",
    "# sélection des 3 premières lignes de x\n",
    "print(x)\n",
    "print(x[y==-1])\n",
    "\n",
    "# contraintes logiques: \n",
    "#    - x et y doivent avoir la même taille\n",
    "#    - y doit être un vecteur\n",
    "\n",
    "# sélection des lignes de x qui commencent par un nombre > 0.5\n",
    "print(x[x[:,0]>0.5])\n"
   ]
  },
  {
   "cell_type": "markdown",
   "metadata": {},
   "source": [
    "## Transformation de matrice\n",
    "\n",
    "`np.where` permet de renvoyer une matrice transformée en ajoutant des arguments dans la méthode\n",
    "\n",
    "> `np.where(m > alpha, retour_si_vrai, retour_si_faux)`\n",
    "\n",
    "On peut se servir de cette syntaxe pour faire des comptages"
   ]
  },
  {
   "cell_type": "code",
   "execution_count": null,
   "metadata": {
    "collapsed": true
   },
   "outputs": [],
   "source": [
    "a = np.random.randn(100,2)\n",
    "# Mettre à zeros tous les éléments négatifs:\n",
    "b = np.where(a<0., 0., a)    # (clause, TODO if true, TODO if false)\n",
    "c = np.where(a<0., -1., 1.)  # Extraire le signe des éléments de a\n",
    "\n",
    "nb_elem_pos = np.where(a>0., 1, 0).sum() # construction d'une matrice binaire + somme = comptage"
   ]
  },
  {
   "cell_type": "markdown",
   "metadata": {},
   "source": [
    "## ATTENTION aux doubles clauses\n",
    "\n",
    "il y a un piège dans la priorité donnée aux opérations: il faut ajouter des parenthèses"
   ]
  },
  {
   "cell_type": "code",
   "execution_count": null,
   "metadata": {},
   "outputs": [],
   "source": [
    "# pour l'estimation d'une loi jointe entre a et b\n",
    "N = 100\n",
    "a = np.ceil(np.random.rand(N) * 10)   # entre 1 et 10\n",
    "b = np.round(np.random.rand(N))       # 0 ou 1\n",
    "np.where((a == 4) & (b==0), 1., 0.)   # OK\n",
    "# np.where( a == 4  &  b==0 , 1., 0.) # KO !!! => le & est prioritaire sur le == !!!"
   ]
  },
  {
   "cell_type": "markdown",
   "metadata": {},
   "source": [
    "# Exercice d'application\n",
    "\n",
    "Générer 1000 tirages selon une loi normale centrée réduite\n",
    " - Vérifier que la moitié (environ) des tirages est supérieure à 0\n",
    " - Vérifier que 2/3 des tirages sont compris entre entre moins l'écart-type et plus l'écart type"
   ]
  },
  {
   "cell_type": "code",
   "execution_count": 8,
   "metadata": {},
   "outputs": [
    {
     "name": "stdout",
     "output_type": "stream",
     "text": [
      "0.513\n",
      "0.674\n"
     ]
    }
   ],
   "source": [
    "a = np.random.randn(1000)\n",
    "print(np.where(a > 0, 1, 0).mean())\n",
    "std = np.std(a)\n",
    "print(np.where((a > -std) & (a < std), 1, 0).mean())"
   ]
  }
 ],
 "metadata": {
  "kernelspec": {
   "display_name": "Python 3 (ipykernel)",
   "language": "python",
   "name": "python3"
  },
  "language_info": {
   "codemirror_mode": {
    "name": "ipython",
    "version": 3
   },
   "file_extension": ".py",
   "mimetype": "text/x-python",
   "name": "python",
   "nbconvert_exporter": "python",
   "pygments_lexer": "ipython3",
   "version": "3.9.7"
  }
 },
 "nbformat": 4,
 "nbformat_minor": 2
}
